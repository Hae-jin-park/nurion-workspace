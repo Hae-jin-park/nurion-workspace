{
 "cells": [
  {
   "cell_type": "code",
   "execution_count": null,
   "id": "aa832db0-da4d-4b24-bfbe-560362d5397e",
   "metadata": {},
   "outputs": [],
   "source": [
    "from instagram.models import Post"
   ]
  },
  {
   "cell_type": "code",
   "execution_count": null,
   "id": "f56e92c6-b4f6-48fc-b98d-1bc9dbd22188",
   "metadata": {},
   "outputs": [],
   "source": [
    "Post.objects.all()"
   ]
  },
  {
   "cell_type": "code",
   "execution_count": null,
   "id": "0a2ff840-dd7b-4604-b67d-021be925174a",
   "metadata": {},
   "outputs": [],
   "source": []
  }
 ],
 "metadata": {
  "kernelspec": {
   "display_name": "Django Shell-Plus",
   "language": "python",
   "name": "django_extensions"
  },
  "language_info": {
   "codemirror_mode": {
    "name": "ipython",
    "version": 3
   },
   "file_extension": ".py",
   "mimetype": "text/x-python",
   "name": "python",
   "nbconvert_exporter": "python",
   "pygments_lexer": "ipython3",
   "version": "3.11.5"
  }
 },
 "nbformat": 4,
 "nbformat_minor": 5
}
