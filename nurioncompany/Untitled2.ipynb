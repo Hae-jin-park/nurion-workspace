{
 "cells": [
  {
   "cell_type": "code",
   "execution_count": 1,
   "id": "7a313198-a933-4f06-b8a9-8c33658dc110",
   "metadata": {},
   "outputs": [],
   "source": [
    "import os\n",
    "os.environ['DJANGO_SETTINGS_MODULE'] = 'nurioncompany.settings'\n",
    "os.environ['DJANGO_ALLOW_ASYNC_UNSAFE'] = 'true'\n",
    "\n",
    "import django\n",
    "django.setup()"
   ]
  },
  {
   "cell_type": "code",
   "execution_count": 2,
   "id": "8516e1f0-be9e-492c-bbcf-daf5f30a55d5",
   "metadata": {},
   "outputs": [],
   "source": [
    "from instagram.models import Post"
   ]
  },
  {
   "cell_type": "code",
   "execution_count": 4,
   "id": "2ad8d031-425c-427e-8c72-58fb5dde2ede",
   "metadata": {},
   "outputs": [],
   "source": [
    "qs = Post.objects.all()"
   ]
  },
  {
   "cell_type": "code",
   "execution_count": 5,
   "id": "bc30e443-0440-42df-b48c-77b6c37eee9e",
   "metadata": {},
   "outputs": [
    {
     "name": "stdout",
     "output_type": "stream",
     "text": [
      "<class 'django.db.models.query.QuerySet'>\n",
      "SELECT \"instagram_post\".\"id\", \"instagram_post\".\"message\", \"instagram_post\".\"photo\", \"instagram_post\".\"is_public\", \"instagram_post\".\"created_at\", \"instagram_post\".\"updated_at\" FROM \"instagram_post\"\n"
     ]
    }
   ],
   "source": [
    "print(type(qs))\n",
    "print(qs.query)"
   ]
  },
  {
   "cell_type": "code",
   "execution_count": 6,
   "id": "7ead78f9-6e16-45e0-a0a5-b40f7786e12e",
   "metadata": {},
   "outputs": [
    {
     "data": {
      "text/plain": [
       "<QuerySet [<Post: 첫번째 메시지>, <Post: 두번째 메시지>, <Post: 세번째 포스팅>]>"
      ]
     },
     "execution_count": 6,
     "metadata": {},
     "output_type": "execute_result"
    }
   ],
   "source": [
    "qs"
   ]
  },
  {
   "cell_type": "code",
   "execution_count": 7,
   "id": "d957d282-6f6b-4f89-b38f-ef5765e2edd8",
   "metadata": {},
   "outputs": [],
   "source": [
    "qs = Post.objects.all().order_by('-id')[:2]"
   ]
  },
  {
   "cell_type": "code",
   "execution_count": 8,
   "id": "e49c4e7b-cc64-4508-8e03-09eba3bd05b9",
   "metadata": {},
   "outputs": [
    {
     "name": "stdout",
     "output_type": "stream",
     "text": [
      "<QuerySet [<Post: 세번째 포스팅>, <Post: 두번째 메시지>]>\n"
     ]
    }
   ],
   "source": [
    "print(qs)"
   ]
  },
  {
   "cell_type": "code",
   "execution_count": 9,
   "id": "19eeae2f-1e92-4d85-8b77-56301607c4a0",
   "metadata": {},
   "outputs": [
    {
     "name": "stdout",
     "output_type": "stream",
     "text": [
      "SELECT \"instagram_post\".\"id\", \"instagram_post\".\"message\", \"instagram_post\".\"photo\", \"instagram_post\".\"is_public\", \"instagram_post\".\"created_at\", \"instagram_post\".\"updated_at\" FROM \"instagram_post\" ORDER BY \"instagram_post\".\"id\" DESC LIMIT 2\n"
     ]
    }
   ],
   "source": [
    "print(qs.query)"
   ]
  },
  {
   "cell_type": "code",
   "execution_count": 11,
   "id": "e5f5ea65-fe7c-4bbb-8663-93bbd98f78eb",
   "metadata": {},
   "outputs": [
    {
     "name": "stdout",
     "output_type": "stream",
     "text": [
      "id: 3, message: 세번째 포스팅 2023-11-02 02:29:58.287920+00:00\n",
      "id: 2, message: 두번째 메시지 2023-11-02 02:13:00.505732+00:00\n"
     ]
    }
   ],
   "source": [
    "for post in qs:\n",
    "    print(\"id: {id}, message: {message} {created_at}\".format(**post.__dict__))\n",
    "    "
   ]
  },
  {
   "cell_type": "code",
   "execution_count": 12,
   "id": "62136d86-6502-478d-b2df-17081741a237",
   "metadata": {},
   "outputs": [
    {
     "name": "stdout",
     "output_type": "stream",
     "text": [
      "<QuerySet [<Post: 세번째 포스팅>, <Post: 두번째 메시지>]>\n"
     ]
    }
   ],
   "source": [
    "print(qs)"
   ]
  },
  {
   "cell_type": "code",
   "execution_count": 13,
   "id": "2471a805-7b20-49be-a62f-e4d2c6e726e9",
   "metadata": {},
   "outputs": [
    {
     "data": {
      "text/plain": [
       "<QuerySet [<Post: 첫번째 메시지>, <Post: 두번째 메시지>, <Post: 세번째 포스팅>, <Post: 네번째 포스팅>]>"
      ]
     },
     "execution_count": 13,
     "metadata": {},
     "output_type": "execute_result"
    }
   ],
   "source": [
    "Post.objects.all()"
   ]
  },
  {
   "cell_type": "code",
   "execution_count": 14,
   "id": "64d4e5a5-5fa4-4a7f-871b-387af4b52211",
   "metadata": {},
   "outputs": [],
   "source": [
    "qs = Post.objects.all().order_by('-id')[:2]"
   ]
  },
  {
   "cell_type": "code",
   "execution_count": 15,
   "id": "93911812-e239-4919-bf31-80aff605a9fb",
   "metadata": {},
   "outputs": [
    {
     "name": "stdout",
     "output_type": "stream",
     "text": [
      "<QuerySet [<Post: 네번째 포스팅>, <Post: 세번째 포스팅>]>\n"
     ]
    }
   ],
   "source": [
    "print(qs)"
   ]
  },
  {
   "cell_type": "code",
   "execution_count": 16,
   "id": "373595ab-dec6-41a2-844a-462ee8795b26",
   "metadata": {},
   "outputs": [
    {
     "name": "stdout",
     "output_type": "stream",
     "text": [
      "id: 4, message: 네번째 포스팅 2023-11-03 04:21:02.888569+00:00\n",
      "id: 3, message: 세번째 포스팅 2023-11-02 02:29:58.287920+00:00\n"
     ]
    }
   ],
   "source": [
    "for post in qs:\n",
    "    print(\"id: {id}, message: {message} {created_at}\".format(**post.__dict__))\n",
    "    "
   ]
  },
  {
   "cell_type": "code",
   "execution_count": null,
   "id": "1d8cbdd8-09c2-4bb2-8560-778d5993fd13",
   "metadata": {},
   "outputs": [],
   "source": []
  }
 ],
 "metadata": {
  "kernelspec": {
   "display_name": "Python 3 (ipykernel)",
   "language": "python",
   "name": "python3"
  },
  "language_info": {
   "codemirror_mode": {
    "name": "ipython",
    "version": 3
   },
   "file_extension": ".py",
   "mimetype": "text/x-python",
   "name": "python",
   "nbconvert_exporter": "python",
   "pygments_lexer": "ipython3",
   "version": "3.11.5"
  }
 },
 "nbformat": 4,
 "nbformat_minor": 5
}
