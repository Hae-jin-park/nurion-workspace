{
 "cells": [
  {
   "cell_type": "code",
   "execution_count": 2,
   "id": "cce7bb21-36e1-4397-9a89-8fc4c9f122f5",
   "metadata": {},
   "outputs": [],
   "source": [
    "import os\n",
    "os.environ['DJANGO_SETTINGS_MODULE'] = 'nurioncompany.settings'\n",
    "os.environ['DJANGO_ALLOW_ASYNC_UNSAFE'] = 'true'\n",
    "\n",
    "import django\n",
    "django.setup()"
   ]
  },
  {
   "cell_type": "code",
   "execution_count": 3,
   "id": "2d61c2f5-38d6-461b-9246-dcdcf80231e6",
   "metadata": {},
   "outputs": [],
   "source": [
    "from accounts.models import Profile"
   ]
  },
  {
   "cell_type": "code",
   "execution_count": 4,
   "id": "eb1b338d-172b-4159-95e1-f57a55d0582e",
   "metadata": {},
   "outputs": [
    {
     "data": {
      "text/plain": [
       "<User: nurion>"
      ]
     },
     "execution_count": 4,
     "metadata": {},
     "output_type": "execute_result"
    }
   ],
   "source": [
    "profile = Profile.objects.first()\n",
    "profile.user"
   ]
  },
  {
   "cell_type": "code",
   "execution_count": 5,
   "id": "b8310188-abc2-4754-ae13-393ed221b3e9",
   "metadata": {},
   "outputs": [
    {
     "data": {
      "text/plain": [
       "'강원특별자치도 원주시 무실로 380'"
      ]
     },
     "execution_count": 5,
     "metadata": {},
     "output_type": "execute_result"
    }
   ],
   "source": [
    "profile.address"
   ]
  },
  {
   "cell_type": "code",
   "execution_count": null,
   "id": "5a44b9dc-126c-497b-8418-0efb01f6fd31",
   "metadata": {},
   "outputs": [],
   "source": []
  }
 ],
 "metadata": {
  "kernelspec": {
   "display_name": "Python 3 (ipykernel)",
   "language": "python",
   "name": "python3"
  },
  "language_info": {
   "codemirror_mode": {
    "name": "ipython",
    "version": 3
   },
   "file_extension": ".py",
   "mimetype": "text/x-python",
   "name": "python",
   "nbconvert_exporter": "python",
   "pygments_lexer": "ipython3",
   "version": "3.10.12"
  }
 },
 "nbformat": 4,
 "nbformat_minor": 5
}
